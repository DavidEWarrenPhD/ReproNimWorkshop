{
 "cells": [
  {
   "cell_type": "markdown",
   "metadata": {},
   "source": [
    "## Connectomics\n",
    "- A graph theory approach to examining brain data\n",
    "- We live in an age of BIG DATA\n",
    "- For example, lets look at a website called Neurosynth\n",
    "- https://neurosynth.org/locations/30_-18_-18_6/"
   ]
  },
  {
   "cell_type": "markdown",
   "metadata": {},
   "source": [
    "<img src='Images/NeuroSynthHip.png' style='width:250px'>"
   ]
  },
  {
   "cell_type": "markdown",
   "metadata": {},
   "source": [
    "While largescale analysis like neurosynth can be handy, it is also indicitive of some of the difficulties of fMRI studies. (Cluster overlap)\n",
    "\n",
    "What if instead we had a set of units that split the brain into meaningful, distinct segments?"
   ]
  },
  {
   "cell_type": "markdown",
   "metadata": {},
   "source": [
    "<div>\n",
    "<img src='Images/parcel_no_network.png' width='400'/>\n",
    "<div/>"
   ]
  },
  {
   "cell_type": "markdown",
   "metadata": {},
   "source": [
    "Parcellations can come in many forms and apply different data to split the brain into regions. The above parcellation (Gordon333) is based on the normative resting state functional connectivity data of 1000 young adults. Voxels are split into physically contigious regions with high functional connectivity.\n",
    "\n",
    "From here we can turn the parcellation into a graph with each parcel representing one node.\n",
    "\n",
    "In short: Voxels are grouped to make parcels and each parcel is treated as a node."
   ]
  },
  {
   "cell_type": "markdown",
   "metadata": {},
   "source": [
    "Parcels are determined by their membership to functional networks. In the above image we can see some parcels share colors. These colors indicate what functional network they belong to."
   ]
  },
  {
   "cell_type": "markdown",
   "metadata": {},
   "source": [
    "<div>\n",
    "<img src='Images/BlankNet.png' width='400'/>\n",
    "<div/>"
   ]
  },
  {
   "cell_type": "markdown",
   "metadata": {},
   "source": [
    "In this form we can apply graph theory methods to analyze resting state functional connectivity or other brain metrics.\n",
    "\n",
    "# Degree\n",
    "\n",
    "The first metric we can measure is degree. Degree is the number of connections a node maintains. What is the degree of the blue node in the two images below?\n",
    "## 1\n",
    "\n",
    "<div>\n",
    "<img src='Images/Deg1.png' width='300'/>\n",
    "<div/>\n",
    "\n",
    "    \n",
    "    \n",
    "    \n",
    "## 2    \n",
    "    \n",
    "<div>\n",
    "<img src='Images/Deg4.png' width='300'/>\n",
    "<div/>"
   ]
  },
  {
   "cell_type": "code",
   "execution_count": null,
   "metadata": {},
   "outputs": [],
   "source": [
    "%matplotlib inline\n",
    "import numpy as np\n",
    "import pandas as pd\n",
    "import matplotlib.pyplot as plt\n",
    "import bct"
   ]
  },
  {
   "cell_type": "code",
   "execution_count": null,
   "metadata": {},
   "outputs": [],
   "source": [
    "SampleData = np.array([[1,.9,-.4,-.5,.3,.2],\\\n",
    "              [.9,1,-.5,-.4,.2,.3],\\\n",
    "              [-.4,-.5,1,.9,.5,.4],\\\n",
    "              [-.5,-.4,.9,1,.4,.5],\\\n",
    "              [.3,.2,.4,.5,1,.9],\\\n",
    "              [.2,.3,.5,.4,.9,1]])"
   ]
  },
  {
   "cell_type": "code",
   "execution_count": null,
   "metadata": {},
   "outputs": [],
   "source": [
    "plt.style.use('bmh')\n",
    "plt.imshow(SampleData, cmap='bwr', interpolation='nearest', vmin = -1, vmax = 1)"
   ]
  },
  {
   "cell_type": "code",
   "execution_count": null,
   "metadata": {},
   "outputs": [],
   "source": [
    "bct.degrees_und(SampleData)"
   ]
  },
  {
   "cell_type": "markdown",
   "metadata": {},
   "source": [
    "## Why do all of the nodes have the same degree? What does this mean when considering neuroimaging data and not sample data?\n",
    "\n",
    "Degree is often a good measure of determining what nodes within a graph are a provincial hub, or a node important to communication within a functional network."
   ]
  },
  {
   "cell_type": "markdown",
   "metadata": {},
   "source": [
    "# Degree Exercises"
   ]
  },
  {
   "cell_type": "markdown",
   "metadata": {},
   "source": [
    "## 1.) What degree do we expect node 1 to have in the following graph?"
   ]
  },
  {
   "cell_type": "code",
   "execution_count": null,
   "metadata": {},
   "outputs": [],
   "source": [
    "SampleData = np.array([[0,.9,-.4,0,0,0],\\\n",
    "              [.9,0,-.5,-.4,.2,.3],\\\n",
    "              [-.4,-.5,0,.9,.5,.4],\\\n",
    "              [0,-.4,.9,0,.4,.5],\\\n",
    "              [0,.2,.4,.5,0,.9],\\\n",
    "              [0,.3,.5,.4,.9,0]])\n",
    "plt.style.use('bmh')\n",
    "plt.imshow(SampleData, cmap='bwr', interpolation='nearest', vmin = -1, vmax = 1)"
   ]
  },
  {
   "cell_type": "markdown",
   "metadata": {},
   "source": [
    "## 2.) Edit the array such that node 2 and 5 both have a degree of 3."
   ]
  },
  {
   "cell_type": "code",
   "execution_count": null,
   "metadata": {},
   "outputs": [],
   "source": [
    "SampleData = np.array([[0,.9,-.4,0,0,0],\\\n",
    "              [.9,0,-.5,-.4,.2,.3],\\\n",
    "              [-.4,-.5,0,.9,.5,.4],\\\n",
    "              [0,-.4,.9,0,.4,.5],\\\n",
    "              [0,.2,.4,.5,0,.9],\\\n",
    "              [0,.3,.5,.4,.9,0]])\n",
    "plt.style.use('bmh')\n",
    "plt.imshow(SampleData, cmap='bwr', interpolation='nearest', vmin = -1, vmax = 1)"
   ]
  },
  {
   "cell_type": "markdown",
   "metadata": {},
   "source": [
    "\n",
    "\n",
    "# Participation Coefficient\n",
    "Unfortunatly, degree helps us little in regard to determining which nodes are important to communication between functional networks. For between network communication a measure called participation coefficient. Participation coefficient is very similar to degree in that it too measures the numver of connections to a node, but unlike degree, participation coefficient measures the number of different functional networks a node connects to.\n",
    "\n",
    "<div>\n",
    "<img src='Images/ColoredNet.png' width='300'/>\n",
    "<div/>\n",
    "\n",
    "What is the participation coefficient of the blue node in the figures below if each color represents a different network?\n",
    "\n",
    "<div>\n",
    "<img src='Images/ParCoef4.png' width='300'/>\n",
    "<div/>\n",
    "<div>\n",
    "<img src='Images/ParCoef4B.png' width='300'/>\n",
    "<div/>"
   ]
  },
  {
   "cell_type": "markdown",
   "metadata": {},
   "source": [
    "<div>\n",
    "<img src='Images/parcel_network.png' width='400'/>\n",
    "<div/>"
   ]
  },
  {
   "cell_type": "code",
   "execution_count": null,
   "metadata": {},
   "outputs": [],
   "source": [
    "NetIdent = [1,1,2,2,3,3]\n",
    "SampleData = np.array([[1,.9,-.4,-.5,.3,.2],\\\n",
    "              [.9,1,-.5,-.4,.2,.3],\\\n",
    "              [-.4,-.5,1,.9,.5,.4],\\\n",
    "              [-.5,-.4,.9,1,.4,.5],\\\n",
    "              [.3,.2,.4,.5,1,.9],\\\n",
    "              [.2,.3,.5,.4,.9,1]])"
   ]
  },
  {
   "cell_type": "code",
   "execution_count": null,
   "metadata": {},
   "outputs": [],
   "source": [
    "print(bct.participation_coef(SampleData, NetIdent, degree='undirected'))\n",
    "plt.style.use('bmh')\n",
    "plt.imshow(SampleData, cmap='bwr', interpolation='nearest', vmin = -1, vmax = 1)"
   ]
  },
  {
   "cell_type": "code",
   "execution_count": null,
   "metadata": {},
   "outputs": [],
   "source": [
    "NetIdent = [1,1,2,2,3,3]\n",
    "SampleData = np.array([[0,.9,-.4,0,0,0],\\\n",
    "              [.9,0,-.5,-.4,.2,.3],\\\n",
    "              [-.4,-.5,0,.9,.5,.4],\\\n",
    "              [0,-.4,.9,0,.4,.5],\\\n",
    "              [0,.2,.4,.5,0,.9],\\\n",
    "              [0,.3,.5,.4,.9,0]])\n",
    "print(bct.participation_coef(SampleData, NetIdent, degree='undirected'))\n",
    "plt.style.use('bmh')\n",
    "plt.imshow(SampleData, cmap='bwr', interpolation='nearest', vmin = -1, vmax = 1)"
   ]
  },
  {
   "cell_type": "code",
   "execution_count": null,
   "metadata": {},
   "outputs": [],
   "source": [
    "NetIdent = [1,1,2,2,3,3]\n",
    "SampleData = np.array([[0,1,1,0,0,0],\\\n",
    "              [1,0,1,1,1,1],\\\n",
    "              [1,1,0,1,1,1],\\\n",
    "              [0,1,1,0,1,1],\\\n",
    "              [0,1,1,1,0,1],\\\n",
    "              [0,1,1,1,1,0]])\n",
    "print(bct.participation_coef(SampleData, NetIdent, degree='undirected'))\n",
    "plt.style.use('bmh')\n",
    "plt.imshow(SampleData, cmap='bwr', interpolation='nearest', vmin = -1, vmax = 1)"
   ]
  },
  {
   "cell_type": "markdown",
   "metadata": {},
   "source": [
    "# Participation Coef Exercises"
   ]
  },
  {
   "cell_type": "markdown",
   "metadata": {},
   "source": [
    "## 1.) What do you think the effect of removing connections between node 1 and 5 will have?"
   ]
  },
  {
   "cell_type": "code",
   "execution_count": null,
   "metadata": {},
   "outputs": [],
   "source": [
    "NetIdent = [1,1,2,2,3,3]\n",
    "SampleData = np.array([[0,1,1,0,0,0],\\\n",
    "              [1,0,1,1,1,0],\\\n",
    "              [1,1,0,1,1,1],\\\n",
    "              [0,1,1,0,1,1],\\\n",
    "              [0,1,1,1,0,1],\\\n",
    "              [0,0,1,1,1,0]])\n",
    "print(bct.participation_coef(SampleData, NetIdent, degree='undirected'))\n",
    "plt.style.use('bmh')\n",
    "plt.imshow(SampleData, cmap='bwr', interpolation='nearest', vmin = -1, vmax = 1)"
   ]
  },
  {
   "cell_type": "markdown",
   "metadata": {},
   "source": [
    "## 2.) Change the NetIdent array to explore how different community structures change participation coefficeint as well!"
   ]
  },
  {
   "cell_type": "code",
   "execution_count": null,
   "metadata": {},
   "outputs": [],
   "source": [
    "NetIdent = [1,1,2,2,3,3]\n",
    "SampleData = np.array([[0,1,1,0,0,0],\\\n",
    "              [1,0,1,1,1,0],\\\n",
    "              [1,1,0,1,1,1],\\\n",
    "              [0,1,1,0,1,1],\\\n",
    "              [0,1,1,1,0,1],\\\n",
    "              [0,0,1,1,1,0]])\n",
    "print(bct.participation_coef(SampleData, NetIdent, degree='undirected'))\n",
    "plt.style.use('bmh')\n",
    "plt.imshow(SampleData, cmap='bwr', interpolation='nearest', vmin = -1, vmax = 1)"
   ]
  },
  {
   "cell_type": "markdown",
   "metadata": {},
   "source": [
    "# Modularity\n",
    "\n",
    "There is one more commonly applied metric called modularity. Unlike degree and participation coefficient, modularity does not generate a score for an individual node and instead is a singular measure representing a whole network. Modularity is best described as measureing the level of segregation between functional networks. Networks with high levels of within network connectivity and low between network connecvitiy will have greater modularity scores. Greater modularity scores at rest are associated with higher scores on cognitive tests. \n",
    "\n",
    "Rank the three following figures from least to greatest modularity score.\n",
    "\n",
    "## A\n",
    "<div>\n",
    "<img src='Images/ModDown.png' width='250'/>\n",
    "<div/>\n",
    "    \n",
    "## B\n",
    "<div>\n",
    "<img src='Images/ParCoef4B.png' width='250'/>\n",
    "<div/>\n",
    "    \n",
    "## C\n",
    "<div>\n",
    "<img src='Images/ParCoef4.png' width='250'/>\n",
    "<div/>"
   ]
  },
  {
   "cell_type": "markdown",
   "metadata": {},
   "source": [
    "## Why Connectomics?\n",
    "\n",
    "Connectomics allows us to go beyond overlaying clusters and begin to obeserve the brain as a set of distinct but related units. In this way we can go beyond the required large scale analysis of fMRI results to reach conclusions and better represent our outcomes."
   ]
  },
  {
   "cell_type": "markdown",
   "metadata": {},
   "source": [
    "<div>\n",
    "<img src='Images/Parcel.png' width='400'/>\n",
    "<div/>"
   ]
  },
  {
   "cell_type": "code",
   "execution_count": null,
   "metadata": {},
   "outputs": [],
   "source": [
    "NetIdent = [1,1,2,2,3,3]\n",
    "SampleData = [[1,.9,.4,.5,.3,.2],\\\n",
    "              [.9,1,.5,.4,.2,.3],\\\n",
    "              [.4,.5,1,.9,.5,.4],\\\n",
    "              [.5,.4,.9,1,.4,.5],\\\n",
    "              [.3,.2,.4,.5,1,.9],\\\n",
    "              [.2,.3,.5,.4,.9,1]]"
   ]
  },
  {
   "cell_type": "code",
   "execution_count": null,
   "metadata": {},
   "outputs": [],
   "source": [
    "print(bct.modularity_und(SampleData, kci=NetIdent))\n",
    "plt.style.use('bmh')\n",
    "plt.imshow(SampleData, cmap='bwr', interpolation='nearest', vmin = -1, vmax = 1)"
   ]
  },
  {
   "cell_type": "code",
   "execution_count": null,
   "metadata": {},
   "outputs": [],
   "source": [
    "NetIdent = [1,1,2,2,3,3]\n",
    "SampleData = [[1,1,0,0,0,0],\\\n",
    "              [1,1,0,0,0,0],\\\n",
    "              [0,0,1,1,0,0],\\\n",
    "              [0,0,1,1,0,0],\\\n",
    "              [0,0,0,0,1,1],\\\n",
    "              [0,0,0,0,1,1]]\n",
    "print(bct.modularity_und(SampleData, kci=NetIdent))\n",
    "plt.style.use('bmh')\n",
    "plt.imshow(SampleData, cmap='bwr', interpolation='nearest', vmin = -1, vmax = 1)"
   ]
  },
  {
   "cell_type": "markdown",
   "metadata": {},
   "source": [
    "# Modularity Exercises"
   ]
  },
  {
   "cell_type": "markdown",
   "metadata": {},
   "source": [
    "## 1.) Set node 0's and node 1's connections to eachoter to zero. How does this change modularity?"
   ]
  },
  {
   "cell_type": "code",
   "execution_count": null,
   "metadata": {},
   "outputs": [],
   "source": [
    "NetIdent = [1,1,2,2,3,3]\n",
    "SampleData = [[1,1,0,0,0,0],\\\n",
    "              [1,1,0,0,0,0],\\\n",
    "              [0,0,1,1,0,0],\\\n",
    "              [0,0,1,1,0,0],\\\n",
    "              [0,0,0,0,1,1],\\\n",
    "              [0,0,0,0,1,1]]\n",
    "print(bct.modularity_und(SampleData, kci=NetIdent))\n",
    "plt.style.use('bmh')\n",
    "plt.imshow(SampleData, cmap='bwr', interpolation='nearest', vmin = -1, vmax = 1)"
   ]
  },
  {
   "cell_type": "markdown",
   "metadata": {},
   "source": [
    "## 2.) Change the NetIdent array to explore how different community structures change modularity!"
   ]
  },
  {
   "cell_type": "code",
   "execution_count": null,
   "metadata": {},
   "outputs": [],
   "source": [
    "NetIdent = [1,1,2,2,3,3]\n",
    "SampleData = [[1,1,0,0,0,0],\\\n",
    "              [1,1,0,0,0,0],\\\n",
    "              [0,0,1,1,0,0],\\\n",
    "              [0,0,1,1,0,0],\\\n",
    "              [0,0,0,0,1,1],\\\n",
    "              [0,0,0,0,1,1]]\n",
    "print(bct.modularity_und(SampleData, kci=NetIdent))\n",
    "plt.style.use('bmh')\n",
    "plt.imshow(SampleData, cmap='bwr', interpolation='nearest', vmin = -1, vmax = 1)"
   ]
  },
  {
   "cell_type": "code",
   "execution_count": null,
   "metadata": {},
   "outputs": [],
   "source": []
  }
 ],
 "metadata": {
  "kernelspec": {
   "display_name": "Python 3 (ipykernel)",
   "language": "python",
   "name": "python3"
  },
  "language_info": {
   "codemirror_mode": {
    "name": "ipython",
    "version": 3
   },
   "file_extension": ".py",
   "mimetype": "text/x-python",
   "name": "python",
   "nbconvert_exporter": "python",
   "pygments_lexer": "ipython3",
   "version": "3.9.7"
  }
 },
 "nbformat": 4,
 "nbformat_minor": 4
}
